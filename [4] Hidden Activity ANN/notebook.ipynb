{
 "cells": [
  {
   "cell_type": "markdown",
   "source": [
    "### Description\n",
    "\n",
    "This project contains following sub-folders and scripts:\n",
    "- analysis, that contains functions for ANN analysis,\n",
    "- generated/models, where you should paste your downloaded states of the MLP and CNN networks for specific datasets,\n",
    "- generated/tsne, where t-sne arrays will be saved\n",
    "- network/constants.py, where you should specify paths to folders described above,\n",
    "- network/data_loader.py, which define helper loader methods,\n",
    "- network/network.py, which defines the simple networks architecture\n",
    "\n",
    "Paper attached to lab materials is an overview of what we will do in this assignment."
   ],
   "metadata": {
    "collapsed": false
   }
  },
  {
   "cell_type": "markdown",
   "source": [],
   "metadata": {
    "collapsed": false
   }
  },
  {
   "cell_type": "code",
   "execution_count": null,
   "outputs": [],
   "source": [
    "from analysis.network_analysis import *\n",
    "\n",
    "import warnings\n",
    "warnings.filterwarnings('ignore')\n",
    "\n",
    "%matplotlib inline"
   ],
   "metadata": {
    "collapsed": false,
    "ExecuteTime": {
     "start_time": "2023-04-26T13:27:10.651784Z",
     "end_time": "2023-04-26T13:27:16.818727Z"
    }
   }
  },
  {
   "cell_type": "markdown",
   "id": "7f3b0519",
   "metadata": {},
   "source": [
    "## INTER-LAYER EVOLUTION\n",
    "\n",
    "The bundled image summarizes a sequence of `N` projections, one per hidden layer, shown as thumbnails. For MLP `N=4`, and for CNN `N=2`, Trail hues encode classes, and edge brightness encodes layer number (depth). Thus, the brightness gradient shows how activation data “flow” through the four network layers. The same idea, but slightly modified, can be employed to visualize \"inter-epoch\" evolution."
   ]
  },
  {
   "cell_type": "markdown",
   "source": [
    "TODO: Use `show_seq_projections` function to calculate points and targets for `N` layers of mnist_mlp model. Use `inter_layer_evolution()` and `show_trace()` for plotting the actual evolution between layers.\n",
    "\n",
    "IMPORTANT: You need to implement minor detail in `show_seq_projections`"
   ],
   "metadata": {
    "collapsed": false
   }
  },
  {
   "cell_type": "code",
   "execution_count": null,
   "id": "ddcde4b6",
   "metadata": {
    "scrolled": false,
    "ExecuteTime": {
     "start_time": "2023-04-26T13:27:16.812731Z",
     "end_time": "2023-04-26T13:27:36.242127Z"
    }
   },
   "outputs": [],
   "source": []
  },
  {
   "cell_type": "markdown",
   "source": [
    "TODO: Please repeat the previous task for `mnist_cnn` and compare the two. Additionally, using the provided article, try to determine the meaning behind the results."
   ],
   "metadata": {
    "collapsed": false
   }
  },
  {
   "cell_type": "code",
   "execution_count": null,
   "id": "7693bf93",
   "metadata": {
    "ExecuteTime": {
     "start_time": "2023-04-26T13:28:00.397212Z",
     "end_time": "2023-04-26T13:28:01.475381Z"
    }
   },
   "outputs": [],
   "source": []
  },
  {
   "cell_type": "markdown",
   "id": "05128d2f",
   "metadata": {},
   "source": [
    "## INTER-EPOCH EVOLUTION\n",
    "TODO: To complete this task, start by obtaining points and targets after hidden layers using the `get_all_activations` and `process_activations` functions. Then, use analogous functions for generating the inter-epoch evolution plot and trace. Finally, perform this task for both the `mnist_mlp` and `mnist_cnn` networks.\n"
   ]
  },
  {
   "cell_type": "code",
   "execution_count": null,
   "id": "26e14f5a",
   "metadata": {
    "ExecuteTime": {
     "start_time": "2023-04-26T13:28:01.477381Z",
     "end_time": "2023-04-26T13:28:03.929464Z"
    }
   },
   "outputs": [],
   "source": []
  },
  {
   "cell_type": "code",
   "execution_count": null,
   "id": "779fb51c",
   "metadata": {
    "ExecuteTime": {
     "start_time": "2023-04-26T13:28:53.642528Z",
     "end_time": "2023-04-26T13:29:38.245459Z"
    }
   },
   "outputs": [],
   "source": []
  },
  {
   "cell_type": "markdown",
   "source": [
    "## PROJECTION COMPARISION\n",
    "\n",
    "This exercise shows the neuron projection for the last CNN/MLP hidden layer activations, after training. Ignoring the colors for a moment, we see no clear pattern in the neuron projection, except for some ill-defined visual clusters. We next color each point (neuron) based on its ability to discriminate between specified class (here we define class 0) and all other classes, computed by a standard feature selection technique, based on extremely randomized trees."
   ],
   "metadata": {
    "collapsed": false
   }
  },
  {
   "cell_type": "markdown",
   "source": [
    "TODO: Utilize the `compare_projections` method to generate a projection for both `mnist_mlp` and `mnist_cnn`, focusing on different labels (e.g., 0 and 5). IMPORTANT: Few things in `compare_projections` needs to be implemented.\n",
    "\n",
    "What observations can be made?"
   ],
   "metadata": {
    "collapsed": false
   }
  },
  {
   "cell_type": "code",
   "execution_count": null,
   "outputs": [],
   "source": [],
   "metadata": {
    "collapsed": false,
    "ExecuteTime": {
     "start_time": "2023-04-26T13:29:53.742336Z",
     "end_time": "2023-04-26T13:30:45.463018Z"
    }
   }
  },
  {
   "cell_type": "code",
   "execution_count": null,
   "outputs": [],
   "source": [],
   "metadata": {
    "collapsed": false,
    "ExecuteTime": {
     "start_time": "2023-04-26T13:30:45.465002Z",
     "end_time": "2023-04-26T13:31:04.645955Z"
    }
   }
  },
  {
   "cell_type": "markdown",
   "source": [
    "## DISCRIMINATIVE NEURON MAP\n",
    "\n",
    "For discriminative neuron map for the test subsets we use last hidden layer activations, after training. The presence of compact visual clusters shows how the entire set of neurons can be (almost) partitioned into groups with related discriminative roles (specializations),\n",
    "even though the neuron projection is created without any class information. The activation and neuron projections can be combined to elucidate the role of particular neurons."
   ],
   "metadata": {
    "collapsed": false
   }
  },
  {
   "cell_type": "markdown",
   "source": [
    "TODO: Utilize the `compare_discriminative_map` method to generate a discriminative neuron maps for both `mnist_mlp` and `mnist_cnn`. What observations can be made?"
   ],
   "metadata": {
    "collapsed": false
   }
  },
  {
   "cell_type": "code",
   "execution_count": null,
   "outputs": [],
   "source": [],
   "metadata": {
    "collapsed": false,
    "ExecuteTime": {
     "start_time": "2023-04-26T13:31:04.527659Z",
     "end_time": "2023-04-26T13:32:00.243396Z"
    }
   }
  },
  {
   "cell_type": "code",
   "execution_count": null,
   "outputs": [],
   "source": [],
   "metadata": {
    "collapsed": false,
    "ExecuteTime": {
     "start_time": "2023-04-26T13:32:00.086505Z",
     "end_time": "2023-04-26T13:32:23.509597Z"
    }
   }
  },
  {
   "cell_type": "markdown",
   "source": [
    "## Homework\n",
    "Repeat the analysis for the network parameters of `cifar_mlp` and `cifar_cnn`."
   ],
   "metadata": {
    "collapsed": false
   }
  },
  {
   "cell_type": "code",
   "execution_count": null,
   "outputs": [],
   "source": [],
   "metadata": {
    "collapsed": false,
    "ExecuteTime": {
     "start_time": "2023-04-26T13:32:23.509597Z",
     "end_time": "2023-04-26T13:32:23.525600Z"
    }
   }
  }
 ],
 "metadata": {
  "kernelspec": {
   "display_name": "Python 3 (ipykernel)",
   "language": "python",
   "name": "python3"
  },
  "language_info": {
   "codemirror_mode": {
    "name": "ipython",
    "version": 3
   },
   "file_extension": ".py",
   "mimetype": "text/x-python",
   "name": "python",
   "nbconvert_exporter": "python",
   "pygments_lexer": "ipython3",
   "version": "3.8.13"
  },
  "vscode": {
   "interpreter": {
    "hash": "916dbcbb3f70747c44a77c7bcd40155683ae19c65e1c03b4aa3499c5328201f1"
   }
  }
 },
 "nbformat": 4,
 "nbformat_minor": 5
}
